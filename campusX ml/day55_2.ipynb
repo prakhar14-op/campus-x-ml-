{
 "cells": [
  {
   "cell_type": "markdown",
   "id": "0ba82de3",
   "metadata": {},
   "source": [
    "RIDGE REGRESSION \n",
    "CODE FOR SCRATCH"
   ]
  },
  {
   "cell_type": "code",
   "execution_count": 2,
   "id": "20078a1a",
   "metadata": {},
   "outputs": [],
   "source": [
    "from sklearn.datasets import make_regression\n",
    "import numpy as np \n",
    "import matplotlib.pyplot as plt "
   ]
  },
  {
   "cell_type": "code",
   "execution_count": null,
   "id": "687fb53c",
   "metadata": {},
   "outputs": [],
   "source": [
    "x,y=make_regression(n_samples=100,n_features=1,n_informative=1,n_targets=1,noise=20,random_state=13)"
   ]
  },
  {
   "cell_type": "code",
   "execution_count": 4,
   "id": "143619f2",
   "metadata": {},
   "outputs": [
    {
     "name": "stdout",
     "output_type": "stream",
     "text": [
      "[27.82809103]\n",
      "-2.29474455867698\n"
     ]
    }
   ],
   "source": [
    "from sklearn.linear_model import LinearRegression\n",
    "lr=LinearRegression()\n",
    "lr.fit(x,y)\n",
    "print(lr.coef_)\n",
    "print(lr.intercept_)"
   ]
  },
  {
   "cell_type": "code",
   "execution_count": 6,
   "id": "f3866d47",
   "metadata": {},
   "outputs": [
    {
     "name": "stdout",
     "output_type": "stream",
     "text": [
      "[24.9546267]\n",
      "-2.1269130035235735\n",
      "[12.93442104]\n",
      "-1.4248441496033308\n"
     ]
    }
   ],
   "source": [
    "from sklearn.linear_model import Ridge\n",
    "rr=Ridge(alpha=10)\n",
    "rr.fit(x,y)\n",
    "print(rr.coef_)\n",
    "print(rr.intercept_)\n",
    "\n",
    "rr1=Ridge(alpha=100)\n",
    "rr1.fit(x,y)\n",
    "print(rr1.coef_)\n",
    "print(rr1.intercept_)"
   ]
  },
  {
   "cell_type": "code",
   "execution_count": 7,
   "id": "ef4b438c",
   "metadata": {},
   "outputs": [
    {
     "data": {
      "text/plain": [
       "<matplotlib.legend.Legend at 0x175e0d2ade0>"
      ]
     },
     "execution_count": 7,
     "metadata": {},
     "output_type": "execute_result"
    },
    {
     "data": {
      "image/png": "[encoded data removed]",
      "text/plain": [
       "<Figure size 640x480 with 1 Axes>"
      ]
     },
     "metadata": {},
     "output_type": "display_data"
    }
   ],
   "source": [
    "plt.plot(x,y,'b.')\n",
    "plt.plot(x,lr.predict(x),color='red',label='alpha=0')\n",
    "plt.plot(x,rr.predict(x),color='green',label='alpha=10')\n",
    "plt.plot(x,rr1.predict(x),color='orange',label='alpha=100')\n",
    "plt.legend()"
   ]
  },
  {
   "cell_type": "markdown",
   "id": "b2f32a36",
   "metadata": {},
   "source": [
    "code from scratch"
   ]
  },
  {
   "cell_type": "code",
   "execution_count": 10,
   "id": "7334cf75",
   "metadata": {},
   "outputs": [],
   "source": [
    "class MeraRidge:\n",
    "    def __init__(self,alpha=10):\n",
    "        self.aplha=alpha\n",
    "        self.m=None\n",
    "        self.b=None\n",
    "    \n",
    "    def fit(self,x_train,y_train):\n",
    "        num=0\n",
    "        den=0\n",
    "        for i in range(x_train.shape[0]):\n",
    "            num=num+(y_train[i]-y_train.mean())*(x_train[i]-x_train.mean())\n",
    "            den=den+(x_train[i]-x_train.mean())*(x_train[i]-x_train.mean())\n",
    "\n",
    "        self.m=num/(den+self.aplha)\n",
    "        self.b=y_train.mean()-self.m*x_train.mean()\n",
    "        print(self.m)\n",
    "        print(self.b)\n",
    "\n",
    "    def predict(self,x_test):\n",
    "        return self.m*x_test+self.b"
   ]
  },
  {
   "cell_type": "code",
   "execution_count": 11,
   "id": "c9448467",
   "metadata": {},
   "outputs": [
    {
     "name": "stdout",
     "output_type": "stream",
     "text": [
      "[24.9546267]\n",
      "[-2.126913]\n"
     ]
    }
   ],
   "source": [
    "reg=MeraRidge()\n",
    "reg.fit(x,y)"
   ]
  },
  {
   "cell_type": "markdown",
   "id": "8c8d9961",
   "metadata": {},
   "source": [
    "ridge regression fir n dim "
   ]
  },
  {
   "cell_type": "code",
   "execution_count": 14,
   "id": "126a7da3",
   "metadata": {},
   "outputs": [],
   "source": [
    "from sklearn.datasets import load_diabetes\n",
    "x1,y1=load_diabetes(return_X_y=True)"
   ]
  },
  {
   "cell_type": "code",
   "execution_count": 15,
   "id": "b4eb35c4",
   "metadata": {},
   "outputs": [],
   "source": [
    "from sklearn.model_selection import train_test_split\n",
    "x_train,x_test,y_train,y_test=train_test_split(x1,y1,test_size=0.2,random_state=4)"
   ]
  },
  {
   "cell_type": "code",
   "execution_count": 24,
   "id": "0a37afe6",
   "metadata": {},
   "outputs": [
    {
     "data": {
      "text/plain": [
       "0.1586550730031001"
      ]
     },
     "execution_count": 24,
     "metadata": {},
     "output_type": "execute_result"
    }
   ],
   "source": [
    "from sklearn.linear_model import Ridge\n",
    "from sklearn.metrics import r2_score\n",
    "rid=Ridge(alpha=10)\n",
    "rid.fit(x_train,y_train)\n",
    "y_pred=rid.predict(x_test)\n",
    "r2_score(y_test,y_pred)\n"
   ]
  },
  {
   "cell_type": "code",
   "execution_count": 25,
   "id": "2c428d94",
   "metadata": {},
   "outputs": [
    {
     "name": "stdout",
     "output_type": "stream",
     "text": [
      "[ 19.73816861  -2.31650264  62.15929363  49.54602923  18.92716443\n",
      "  12.45739602 -39.60091202  42.81978891  61.57115822  35.24731451]\n",
      "151.60854821587688\n"
     ]
    }
   ],
   "source": [
    "print(rid.coef_)\n",
    "print(rid.intercept_)"
   ]
  },
  {
   "cell_type": "code",
   "execution_count": 26,
   "id": "5e24c561",
   "metadata": {},
   "outputs": [],
   "source": [
    "class MeraRidgeN:\n",
    "    def __init__(self,alpha=0.1):\n",
    "        self.aplha=alpha\n",
    "        self.coef_=None\n",
    "        self.intercept_=None\n",
    "\n",
    "    def fit(self,x_train,y_train):\n",
    "        x_train=np.insert(x_train,0,1,axis=1)\n",
    "        I=np.identity(x_train.shape[1])\n",
    "        I[0][0]=0\n",
    "\n",
    "        result=np.linalg.inv(np.dot(x_train.T,x_train)+self.aplha*I).dot(x_train.T).dot(y_train)\n",
    "\n",
    "        self.coef_=result[1:]\n",
    "        self.intercept_=result[0]\n",
    "        print(self.coef_)\n",
    "        print(self.intercept_)\n",
    "\n",
    "    def predict(self,x_test):\n",
    "        return np.dot(x_test,self.coef_)+self.intercept_"
   ]
  },
  {
   "cell_type": "code",
   "execution_count": 28,
   "id": "9389b712",
   "metadata": {},
   "outputs": [
    {
     "name": "stdout",
     "output_type": "stream",
     "text": [
      "[ 19.73816861  -2.31650264  62.15929363  49.54602923  18.92716443\n",
      "  12.45739602 -39.60091202  42.81978891  61.57115822  35.24731451]\n",
      "151.60854821587688\n"
     ]
    }
   ],
   "source": [
    "reg1=MeraRidgeN(alpha=10)\n",
    "reg1.fit(x_train,y_train)\n",
    "y_pred=reg1.predict(x_test)\n"
   ]
  },
  {
   "cell_type": "code",
   "execution_count": null,
   "id": "0e79b63e",
   "metadata": {},
   "outputs": [],
   "source": []
  }
 ],
 "metadata": {
  "kernelspec": {
   "display_name": "Python 3",
   "language": "python",
   "name": "python3"
  },
  "language_info": {
   "codemirror_mode": {
    "name": "ipython",
    "version": 3
   },
   "file_extension": ".py",
   "mimetype": "text/x-python",
   "name": "python",
   "nbconvert_exporter": "python",
   "pygments_lexer": "ipython3",
   "version": "3.12.10"
  }
 },
 "nbformat": 4,
 "nbformat_minor": 5
}
