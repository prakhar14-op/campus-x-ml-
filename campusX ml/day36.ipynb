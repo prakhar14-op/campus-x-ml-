{
 "cells": [
  {
   "cell_type": "markdown",
   "id": "6b7f2d88",
   "metadata": {},
   "source": [
    "HANDLING MISSING DATA (NUMERICAL)"
   ]
  },
  {
   "cell_type": "markdown",
   "id": "8ddd500c",
   "metadata": {},
   "source": [
    "step 1: importing lib"
   ]
  },
  {
   "cell_type": "code",
   "execution_count": 2,
   "id": "133c7a01",
   "metadata": {},
   "outputs": [],
   "source": [
    "import numpy as np \n",
    "import pandas as pd \n",
    "import matplotlib.pyplot as plt \n",
    "\n",
    "from sklearn.model_selection import train_test_split\n",
    "from sklearn.impute import SimpleImputer\n",
    "from sklearn.compose import ColumnTransformer"
   ]
  },
  {
   "cell_type": "markdown",
   "id": "f3280e0c",
   "metadata": {},
   "source": [
    "step 2: load your data set "
   ]
  },
  {
   "cell_type": "code",
   "execution_count": 3,
   "id": "3291a98d",
   "metadata": {},
   "outputs": [
    {
     "data": {
      "text/html": [
       "<div>\n",
       "<style scoped>\n",
       "    .dataframe tbody tr th:only-of-type {\n",
       "        vertical-align: middle;\n",
       "    }\n",
       "\n",
       "    .dataframe tbody tr th {\n",
       "        vertical-align: top;\n",
       "    }\n",
       "\n",
       "    .dataframe thead th {\n",
       "        text-align: right;\n",
       "    }\n",
       "</style>\n",
       "<table border=\"1\" class=\"dataframe\">\n",
       "  <thead>\n",
       "    <tr style=\"text-align: right;\">\n",
       "      <th></th>\n",
       "      <th>Age</th>\n",
       "      <th>Fare</th>\n",
       "      <th>Family</th>\n",
       "      <th>Survived</th>\n",
       "    </tr>\n",
       "  </thead>\n",
       "  <tbody>\n",
       "    <tr>\n",
       "      <th>209</th>\n",
       "      <td>40.0</td>\n",
       "      <td>31.0000</td>\n",
       "      <td>0</td>\n",
       "      <td>1</td>\n",
       "    </tr>\n",
       "    <tr>\n",
       "      <th>63</th>\n",
       "      <td>4.0</td>\n",
       "      <td>27.9000</td>\n",
       "      <td>5</td>\n",
       "      <td>0</td>\n",
       "    </tr>\n",
       "    <tr>\n",
       "      <th>197</th>\n",
       "      <td>42.0</td>\n",
       "      <td>8.4042</td>\n",
       "      <td>1</td>\n",
       "      <td>0</td>\n",
       "    </tr>\n",
       "    <tr>\n",
       "      <th>476</th>\n",
       "      <td>34.0</td>\n",
       "      <td>21.0000</td>\n",
       "      <td>1</td>\n",
       "      <td>0</td>\n",
       "    </tr>\n",
       "    <tr>\n",
       "      <th>53</th>\n",
       "      <td>29.0</td>\n",
       "      <td>26.0000</td>\n",
       "      <td>1</td>\n",
       "      <td>1</td>\n",
       "    </tr>\n",
       "  </tbody>\n",
       "</table>\n",
       "</div>"
      ],
      "text/plain": [
       "      Age     Fare  Family  Survived\n",
       "209  40.0  31.0000       0         1\n",
       "63    4.0  27.9000       5         0\n",
       "197  42.0   8.4042       1         0\n",
       "476  34.0  21.0000       1         0\n",
       "53   29.0  26.0000       1         1"
      ]
     },
     "execution_count": 3,
     "metadata": {},
     "output_type": "execute_result"
    }
   ],
   "source": [
    "df=pd.read_csv('titanic_toy.csv')\n",
    "df.sample(5)\n"
   ]
  },
  {
   "cell_type": "markdown",
   "id": "1816ba32",
   "metadata": {},
   "source": [
    "step 3:train test split"
   ]
  },
  {
   "cell_type": "code",
   "execution_count": 4,
   "id": "e348c4a7",
   "metadata": {},
   "outputs": [],
   "source": [
    "x=df.drop(columns=['Survived'])\n",
    "y=df['Survived']\n",
    "\n",
    "x_train,x_test,y_train,y_test=train_test_split(x,y,test_size=0.2)"
   ]
  },
  {
   "cell_type": "markdown",
   "id": "618f539c",
   "metadata": {},
   "source": [
    "step 4:finding mean and median of the column having missng value "
   ]
  },
  {
   "cell_type": "code",
   "execution_count": 5,
   "id": "00b5dc77",
   "metadata": {},
   "outputs": [],
   "source": [
    "mean_age=df['Age'].mean()\n",
    "median_age=df['Age'].median()\n",
    "\n",
    "mean_fare=df['Fare'].mean()\n",
    "median_fare=df['Fare'].median()"
   ]
  },
  {
   "cell_type": "markdown",
   "id": "206a5d92",
   "metadata": {},
   "source": [
    "step 5: filling the missing values using mean or median "
   ]
  },
  {
   "cell_type": "code",
   "execution_count": 6,
   "id": "abd36268",
   "metadata": {},
   "outputs": [],
   "source": [
    "x_train['Age_mean']=x_train['Age'].fillna(mean_age)\n",
    "x_train['Fare_median']=x_train['Fare'].fillna(median_fare)"
   ]
  },
  {
   "cell_type": "code",
   "execution_count": 7,
   "id": "c661210e",
   "metadata": {},
   "outputs": [
    {
     "data": {
      "text/plain": [
       "Age            134\n",
       "Fare            36\n",
       "Family           0\n",
       "Age_mean         0\n",
       "Fare_median      0\n",
       "dtype: int64"
      ]
     },
     "execution_count": 7,
     "metadata": {},
     "output_type": "execute_result"
    }
   ],
   "source": [
    "x_train.isnull().sum()"
   ]
  },
  {
   "cell_type": "markdown",
   "id": "b88841bf",
   "metadata": {},
   "source": [
    "step 6:distribution me kesa change aya "
   ]
  },
  {
   "cell_type": "code",
   "execution_count": 8,
   "id": "d985b373",
   "metadata": {},
   "outputs": [
    {
     "data": {
      "text/plain": [
       "<Axes: ylabel='Density'>"
      ]
     },
     "execution_count": 8,
     "metadata": {},
     "output_type": "execute_result"
    },
    {
     "data": {
      "image/png": "[encoded data removed]",
      "text/plain": [
       "<Figure size 1400x400 with 1 Axes>"
      ]
     },
     "metadata": {},
     "output_type": "display_data"
    }
   ],
   "source": [
    "fig=plt.figure(figsize=(14,4))\n",
    "ax=fig.add_subplot(1,1,1)  #to plot them on a same graph\n",
    "\n",
    "# x_train['Age'].plot(kind='kde',ax=ax)\n",
    "# x_train['Age_mean'].plot(kind='kde', ax=ax, color='red')\n",
    "x_train['Fare'].plot(kind='kde',ax=ax)\n",
    "x_train['Fare_median'].plot(kind='kde',ax=ax,color='red')"
   ]
  },
  {
   "cell_type": "markdown",
   "id": "b3a29826",
   "metadata": {},
   "source": [
    "step 7: finfing outliers"
   ]
  },
  {
   "cell_type": "code",
   "execution_count": 9,
   "id": "d67e4c60",
   "metadata": {},
   "outputs": [
    {
     "data": {
      "text/plain": [
       "<Axes: >"
      ]
     },
     "execution_count": 9,
     "metadata": {},
     "output_type": "execute_result"
    },
    {
     "data": {
      "image/png": "[encoded data removed]",
      "text/plain": [
       "<Figure size 640x480 with 1 Axes>"
      ]
     },
     "metadata": {},
     "output_type": "display_data"
    }
   ],
   "source": [
    "# x_train[['Age','Age_mean']].boxplot()\n",
    "x_train[['Fare','Fare_median']].boxplot()"
   ]
  },
  {
   "cell_type": "markdown",
   "id": "8519686c",
   "metadata": {},
   "source": [
    "mt 2:using sklearn"
   ]
  },
  {
   "cell_type": "code",
   "execution_count": 10,
   "id": "bbaeb4fc",
   "metadata": {},
   "outputs": [],
   "source": [
    "imputer1=SimpleImputer(strategy='mean')\n",
    "imputer2=SimpleImputer(strategy='median')\n",
    "\n",
    "trf=ColumnTransformer([\n",
    "    ('imputer1',imputer1,['Age']),\n",
    "    ('imputer2',imputer2,['Fare'])\n",
    "])\n",
    "\n",
    "trf.fit(x_train)\n",
    "x_train=trf.transform(x_train)\n",
    "x_test=trf.transform(x_test)"
   ]
  }
 ],
 "metadata": {
  "kernelspec": {
   "display_name": "Python 3",
   "language": "python",
   "name": "python3"
  },
  "language_info": {
   "codemirror_mode": {
    "name": "ipython",
    "version": 3
   },
   "file_extension": ".py",
   "mimetype": "text/x-python",
   "name": "python",
   "nbconvert_exporter": "python",
   "pygments_lexer": "ipython3",
   "version": "3.12.10"
  }
 },
 "nbformat": 4,
 "nbformat_minor": 5
}
