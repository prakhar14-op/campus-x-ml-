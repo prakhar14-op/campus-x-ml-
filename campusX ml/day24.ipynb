{
 "cells": [
  {
   "cell_type": "markdown",
   "id": "98922a51",
   "metadata": {},
   "source": [
    "feature scaling "
   ]
  },
  {
   "cell_type": "markdown",
   "id": "4b656a3f",
   "metadata": {},
   "source": [
    "a.) standardization"
   ]
  },
  {
   "cell_type": "code",
   "execution_count": 2,
   "id": "d467b7b1",
   "metadata": {},
   "outputs": [],
   "source": [
    "import numpy as np\n",
    "import pandas as pd \n",
    "import matplotlib.pyplot as plt\n",
    "import seaborn as sns"
   ]
  },
  {
   "cell_type": "code",
   "execution_count": 7,
   "id": "8ec6bcbd",
   "metadata": {},
   "outputs": [
    {
     "data": {
      "text/plain": [
       "(400, 3)"
      ]
     },
     "execution_count": 7,
     "metadata": {},
     "output_type": "execute_result"
    }
   ],
   "source": [
    "df=pd.read_csv(\"Social_Network_Ads.csv\")\n",
    "\n",
    "df=df.iloc[:,2:]\n",
    "df.head()\n",
    "df.shape"
   ]
  },
  {
   "cell_type": "markdown",
   "id": "bdffe22d",
   "metadata": {},
   "source": [
    "step 1 :train -test split "
   ]
  },
  {
   "cell_type": "code",
   "execution_count": 9,
   "id": "d5bcb96c",
   "metadata": {},
   "outputs": [
    {
     "name": "stdout",
     "output_type": "stream",
     "text": [
      "(280, 2)\n",
      "(120, 2)\n"
     ]
    }
   ],
   "source": [
    "from sklearn.model_selection import train_test_split\n",
    "x_train,x_test,y_train,y_test=train_test_split(df.iloc[:,:2],df.iloc[:,2],test_size=0.3)\n",
    "print(x_train.shape) \n",
    "print(x_test.shape)"
   ]
  },
  {
   "cell_type": "markdown",
   "id": "4885546c",
   "metadata": {},
   "source": [
    "step 2:standardscale"
   ]
  },
  {
   "cell_type": "code",
   "execution_count": 20,
   "id": "018892a8",
   "metadata": {},
   "outputs": [],
   "source": [
    "from sklearn.preprocessing import StandardScaler\n",
    "scalar=StandardScaler()\n",
    "\n",
    "scalar.fit(x_train)\n",
    "\n",
    "x_train_scaled=scalar.transform(x_train)\n",
    "x_test_scaled=scalar.transform(x_test)"
   ]
  },
  {
   "cell_type": "markdown",
   "id": "e5170aa8",
   "metadata": {},
   "source": [
    "step 3: converting that numpy array in data frame "
   ]
  },
  {
   "cell_type": "code",
   "execution_count": 22,
   "id": "3b1ff10b",
   "metadata": {},
   "outputs": [
    {
     "data": {
      "text/html": [
       "<div>\n",
       "<style scoped>\n",
       "    .dataframe tbody tr th:only-of-type {\n",
       "        vertical-align: middle;\n",
       "    }\n",
       "\n",
       "    .dataframe tbody tr th {\n",
       "        vertical-align: top;\n",
       "    }\n",
       "\n",
       "    .dataframe thead th {\n",
       "        text-align: right;\n",
       "    }\n",
       "</style>\n",
       "<table border=\"1\" class=\"dataframe\">\n",
       "  <thead>\n",
       "    <tr style=\"text-align: right;\">\n",
       "      <th></th>\n",
       "      <th>Age</th>\n",
       "      <th>EstimatedSalary</th>\n",
       "    </tr>\n",
       "  </thead>\n",
       "  <tbody>\n",
       "    <tr>\n",
       "      <th>0</th>\n",
       "      <td>1.981665</td>\n",
       "      <td>0.378335</td>\n",
       "    </tr>\n",
       "    <tr>\n",
       "      <th>1</th>\n",
       "      <td>-1.618964</td>\n",
       "      <td>0.466958</td>\n",
       "    </tr>\n",
       "    <tr>\n",
       "      <th>2</th>\n",
       "      <td>-1.618964</td>\n",
       "      <td>-0.626057</td>\n",
       "    </tr>\n",
       "    <tr>\n",
       "      <th>3</th>\n",
       "      <td>-1.065021</td>\n",
       "      <td>-1.600908</td>\n",
       "    </tr>\n",
       "    <tr>\n",
       "      <th>4</th>\n",
       "      <td>0.319836</td>\n",
       "      <td>0.053385</td>\n",
       "    </tr>\n",
       "    <tr>\n",
       "      <th>...</th>\n",
       "      <td>...</td>\n",
       "      <td>...</td>\n",
       "    </tr>\n",
       "    <tr>\n",
       "      <th>275</th>\n",
       "      <td>-0.603402</td>\n",
       "      <td>0.171548</td>\n",
       "    </tr>\n",
       "    <tr>\n",
       "      <th>276</th>\n",
       "      <td>1.797017</td>\n",
       "      <td>1.530431</td>\n",
       "    </tr>\n",
       "    <tr>\n",
       "      <th>277</th>\n",
       "      <td>1.243074</td>\n",
       "      <td>1.884923</td>\n",
       "    </tr>\n",
       "    <tr>\n",
       "      <th>278</th>\n",
       "      <td>-1.341992</td>\n",
       "      <td>-0.212484</td>\n",
       "    </tr>\n",
       "    <tr>\n",
       "      <th>279</th>\n",
       "      <td>-0.234107</td>\n",
       "      <td>-0.596516</td>\n",
       "    </tr>\n",
       "  </tbody>\n",
       "</table>\n",
       "<p>280 rows × 2 columns</p>\n",
       "</div>"
      ],
      "text/plain": [
       "          Age  EstimatedSalary\n",
       "0    1.981665         0.378335\n",
       "1   -1.618964         0.466958\n",
       "2   -1.618964        -0.626057\n",
       "3   -1.065021        -1.600908\n",
       "4    0.319836         0.053385\n",
       "..        ...              ...\n",
       "275 -0.603402         0.171548\n",
       "276  1.797017         1.530431\n",
       "277  1.243074         1.884923\n",
       "278 -1.341992        -0.212484\n",
       "279 -0.234107        -0.596516\n",
       "\n",
       "[280 rows x 2 columns]"
      ]
     },
     "execution_count": 22,
     "metadata": {},
     "output_type": "execute_result"
    }
   ],
   "source": [
    "x_train_scaled=pd.DataFrame(x_train_scaled,columns=x_train.columns)\n",
    "x_train_scaled"
   ]
  },
  {
   "cell_type": "code",
   "execution_count": 26,
   "id": "2b01acd8",
   "metadata": {},
   "outputs": [
    {
     "data": {
      "text/html": [
       "<div>\n",
       "<style scoped>\n",
       "    .dataframe tbody tr th:only-of-type {\n",
       "        vertical-align: middle;\n",
       "    }\n",
       "\n",
       "    .dataframe tbody tr th {\n",
       "        vertical-align: top;\n",
       "    }\n",
       "\n",
       "    .dataframe thead th {\n",
       "        text-align: right;\n",
       "    }\n",
       "</style>\n",
       "<table border=\"1\" class=\"dataframe\">\n",
       "  <thead>\n",
       "    <tr style=\"text-align: right;\">\n",
       "      <th></th>\n",
       "      <th>Age</th>\n",
       "      <th>EstimatedSalary</th>\n",
       "    </tr>\n",
       "  </thead>\n",
       "  <tbody>\n",
       "    <tr>\n",
       "      <th>0</th>\n",
       "      <td>-0.880373</td>\n",
       "      <td>-0.773761</td>\n",
       "    </tr>\n",
       "    <tr>\n",
       "      <th>1</th>\n",
       "      <td>0.135188</td>\n",
       "      <td>0.023844</td>\n",
       "    </tr>\n",
       "    <tr>\n",
       "      <th>2</th>\n",
       "      <td>-0.049459</td>\n",
       "      <td>0.289712</td>\n",
       "    </tr>\n",
       "    <tr>\n",
       "      <th>3</th>\n",
       "      <td>-0.972697</td>\n",
       "      <td>0.762367</td>\n",
       "    </tr>\n",
       "    <tr>\n",
       "      <th>4</th>\n",
       "      <td>-1.526640</td>\n",
       "      <td>0.053385</td>\n",
       "    </tr>\n",
       "    <tr>\n",
       "      <th>...</th>\n",
       "      <td>...</td>\n",
       "      <td>...</td>\n",
       "    </tr>\n",
       "    <tr>\n",
       "      <th>115</th>\n",
       "      <td>-1.157345</td>\n",
       "      <td>0.585121</td>\n",
       "    </tr>\n",
       "    <tr>\n",
       "      <th>116</th>\n",
       "      <td>-0.326431</td>\n",
       "      <td>-0.803302</td>\n",
       "    </tr>\n",
       "    <tr>\n",
       "      <th>117</th>\n",
       "      <td>0.319836</td>\n",
       "      <td>-0.212484</td>\n",
       "    </tr>\n",
       "    <tr>\n",
       "      <th>118</th>\n",
       "      <td>-0.141783</td>\n",
       "      <td>1.412268</td>\n",
       "    </tr>\n",
       "    <tr>\n",
       "      <th>119</th>\n",
       "      <td>2.073988</td>\n",
       "      <td>-0.832843</td>\n",
       "    </tr>\n",
       "  </tbody>\n",
       "</table>\n",
       "<p>120 rows × 2 columns</p>\n",
       "</div>"
      ],
      "text/plain": [
       "          Age  EstimatedSalary\n",
       "0   -0.880373        -0.773761\n",
       "1    0.135188         0.023844\n",
       "2   -0.049459         0.289712\n",
       "3   -0.972697         0.762367\n",
       "4   -1.526640         0.053385\n",
       "..        ...              ...\n",
       "115 -1.157345         0.585121\n",
       "116 -0.326431        -0.803302\n",
       "117  0.319836        -0.212484\n",
       "118 -0.141783         1.412268\n",
       "119  2.073988        -0.832843\n",
       "\n",
       "[120 rows x 2 columns]"
      ]
     },
     "execution_count": 26,
     "metadata": {},
     "output_type": "execute_result"
    }
   ],
   "source": [
    "x_test_scaled=pd.DataFrame(x_test_scaled,columns=x_test.columns)\n",
    "x_test_scaled"
   ]
  },
  {
   "cell_type": "markdown",
   "id": "f8c00f04",
   "metadata": {},
   "source": [
    "effect of scaling "
   ]
  },
  {
   "cell_type": "code",
   "execution_count": 38,
   "id": "5acc7f42",
   "metadata": {},
   "outputs": [
    {
     "data": {
      "image/png": "[encoded data removed]",
      "text/plain": [
       "<Figure size 1200x500 with 2 Axes>"
      ]
     },
     "metadata": {},
     "output_type": "display_data"
    }
   ],
   "source": [
    "fig ,(ax1,ax2)=plt.subplots(ncols=2,figsize=(12,5))\n",
    "ax1.scatter(x_train['Age'],x_train['EstimatedSalary'])\n",
    "ax1.set_title(\"before scaling\")\n",
    "\n",
    "ax2.scatter(x_train_scaled['Age'],x_train_scaled['EstimatedSalary'],color='red')\n",
    "ax2.set_title('after scaling')\n",
    "\n",
    "plt.show()\n"
   ]
  },
  {
   "cell_type": "code",
   "execution_count": null,
   "id": "3a932247",
   "metadata": {},
   "outputs": [],
   "source": [
    "ax1.set_title(\"before scaling\")\n",
    "ax1=sns.distplot(x_train['Age'],hist=False)\n",
    "\n",
    "# ax2.set_title(\"after scaling\")\n",
    "# ax2=sns.distplot(x_train_scaled['Age'],hist=False)\n"
   ]
  },
  {
   "cell_type": "markdown",
   "id": "b3752b2a",
   "metadata": {},
   "source": [
    "note:     stndardization is imp in case of logistic regression\n"
   ]
  }
 ],
 "metadata": {
  "kernelspec": {
   "display_name": "Python 3",
   "language": "python",
   "name": "python3"
  },
  "language_info": {
   "codemirror_mode": {
    "name": "ipython",
    "version": 3
   },
   "file_extension": ".py",
   "mimetype": "text/x-python",
   "name": "python",
   "nbconvert_exporter": "python",
   "pygments_lexer": "ipython3",
   "version": "3.12.10"
  }
 },
 "nbformat": 4,
 "nbformat_minor": 5
}
