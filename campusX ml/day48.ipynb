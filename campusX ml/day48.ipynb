{
 "cells": [
  {
   "cell_type": "markdown",
   "id": "114ca6e2",
   "metadata": {},
   "source": [
    "simple linear regression"
   ]
  },
  {
   "cell_type": "code",
   "execution_count": 1,
   "id": "c6ffeac7",
   "metadata": {},
   "outputs": [],
   "source": [
    "import numpy as np \n",
    "import pandas as pd \n",
    "import matplotlib.pyplot as plt \n",
    "from sklearn.model_selection import train_test_split\n",
    "from sklearn.metrics import accuracy_score,r2_score"
   ]
  },
  {
   "cell_type": "code",
   "execution_count": 2,
   "id": "8b8e0b61",
   "metadata": {},
   "outputs": [
    {
     "data": {
      "text/html": [
       "<div>\n",
       "<style scoped>\n",
       "    .dataframe tbody tr th:only-of-type {\n",
       "        vertical-align: middle;\n",
       "    }\n",
       "\n",
       "    .dataframe tbody tr th {\n",
       "        vertical-align: top;\n",
       "    }\n",
       "\n",
       "    .dataframe thead th {\n",
       "        text-align: right;\n",
       "    }\n",
       "</style>\n",
       "<table border=\"1\" class=\"dataframe\">\n",
       "  <thead>\n",
       "    <tr style=\"text-align: right;\">\n",
       "      <th></th>\n",
       "      <th>cgpa</th>\n",
       "      <th>package</th>\n",
       "    </tr>\n",
       "  </thead>\n",
       "  <tbody>\n",
       "    <tr>\n",
       "      <th>73</th>\n",
       "      <td>8.44</td>\n",
       "      <td>4.03</td>\n",
       "    </tr>\n",
       "    <tr>\n",
       "      <th>190</th>\n",
       "      <td>6.19</td>\n",
       "      <td>2.69</td>\n",
       "    </tr>\n",
       "    <tr>\n",
       "      <th>167</th>\n",
       "      <td>8.13</td>\n",
       "      <td>3.60</td>\n",
       "    </tr>\n",
       "    <tr>\n",
       "      <th>75</th>\n",
       "      <td>6.97</td>\n",
       "      <td>3.28</td>\n",
       "    </tr>\n",
       "    <tr>\n",
       "      <th>37</th>\n",
       "      <td>5.90</td>\n",
       "      <td>2.43</td>\n",
       "    </tr>\n",
       "  </tbody>\n",
       "</table>\n",
       "</div>"
      ],
      "text/plain": [
       "     cgpa  package\n",
       "73   8.44     4.03\n",
       "190  6.19     2.69\n",
       "167  8.13     3.60\n",
       "75   6.97     3.28\n",
       "37   5.90     2.43"
      ]
     },
     "execution_count": 2,
     "metadata": {},
     "output_type": "execute_result"
    }
   ],
   "source": [
    "df=pd.read_csv('simple_linear_regression.csv')\n",
    "df.sample(5)"
   ]
  },
  {
   "cell_type": "markdown",
   "id": "05e4716c",
   "metadata": {},
   "source": [
    "plottinig the scatter plot"
   ]
  },
  {
   "cell_type": "code",
   "execution_count": 3,
   "id": "08b41533",
   "metadata": {},
   "outputs": [
    {
     "data": {
      "text/plain": [
       "Text(0, 0.5, 'package')"
      ]
     },
     "execution_count": 3,
     "metadata": {},
     "output_type": "execute_result"
    },
    {
     "data": {
      "image/png": "[encoded data removed]",
      "text/plain": [
       "<Figure size 640x480 with 1 Axes>"
      ]
     },
     "metadata": {},
     "output_type": "display_data"
    }
   ],
   "source": [
    "plt.scatter(df['cgpa'],df['package'])\n",
    "plt.xlabel('cgpa')\n",
    "plt.ylabel('package')"
   ]
  },
  {
   "cell_type": "code",
   "execution_count": 4,
   "id": "cd3ebb33",
   "metadata": {},
   "outputs": [
    {
     "data": {
      "text/plain": [
       "142    6.93\n",
       "39     7.43\n",
       "91     6.22\n",
       "49     8.87\n",
       "38     8.62\n",
       "Name: cgpa, dtype: float64"
      ]
     },
     "execution_count": 4,
     "metadata": {},
     "output_type": "execute_result"
    }
   ],
   "source": [
    "x=df.iloc[:,0]\n",
    "y=df.iloc[:,1]\n",
    "x_train,x_test,y_train,y_test=train_test_split(x,y,test_size=0.2,random_state=2)\n",
    "x_train.sample(5)"
   ]
  },
  {
   "cell_type": "code",
   "execution_count": 5,
   "id": "f5c7e53a",
   "metadata": {},
   "outputs": [],
   "source": [
    "# from sklearn.linear_model import LinearRegression\n",
    "# lr=LinearRegression()\n",
    "# lr.fit(x_train,y_train)"
   ]
  },
  {
   "cell_type": "code",
   "execution_count": 6,
   "id": "85a28ff5",
   "metadata": {},
   "outputs": [
    {
     "data": {
      "text/plain": [
       "112    8.58\n",
       "29     7.15\n",
       "182    5.88\n",
       "199    6.22\n",
       "193    4.57\n",
       "85     4.79\n",
       "10     5.32\n",
       "54     6.86\n",
       "115    8.35\n",
       "35     6.87\n",
       "12     8.94\n",
       "92     7.90\n",
       "13     6.93\n",
       "126    5.91\n",
       "174    7.32\n",
       "2      7.82\n",
       "44     5.09\n",
       "3      7.42\n",
       "113    6.94\n",
       "14     7.73\n",
       "23     6.19\n",
       "25     7.28\n",
       "6      6.73\n",
       "134    7.20\n",
       "165    8.21\n",
       "173    6.75\n",
       "45     7.87\n",
       "65     7.60\n",
       "48     8.63\n",
       "122    5.12\n",
       "178    8.15\n",
       "64     7.36\n",
       "9      8.31\n",
       "57     6.60\n",
       "78     6.59\n",
       "71     7.47\n",
       "128    7.93\n",
       "176    6.29\n",
       "131    6.37\n",
       "53     6.47\n",
       "Name: cgpa, dtype: float64"
      ]
     },
     "execution_count": 6,
     "metadata": {},
     "output_type": "execute_result"
    }
   ],
   "source": [
    "x_test"
   ]
  },
  {
   "cell_type": "code",
   "execution_count": 7,
   "id": "a1e35bcd",
   "metadata": {},
   "outputs": [],
   "source": [
    "# lr.predict(x_test.iloc[[0]])"
   ]
  },
  {
   "cell_type": "code",
   "execution_count": 8,
   "id": "c717656a",
   "metadata": {},
   "outputs": [],
   "source": [
    "# plt.scatter(df['cgpa'],df['package'])\n",
    "# plt.plot(x_train,lr.predict(x_train),color='red')\n",
    "# plt.xlabel('cgpa')\n",
    "# plt.ylabel('package')"
   ]
  },
  {
   "cell_type": "code",
   "execution_count": 9,
   "id": "3a7e4488",
   "metadata": {},
   "outputs": [],
   "source": [
    "# m=lr.coef_\n",
    "# b=lr.intercept_"
   ]
  },
  {
   "cell_type": "code",
   "execution_count": 10,
   "id": "4a12dc2e",
   "metadata": {},
   "outputs": [],
   "source": [
    "# r2_score(x_test,y_test)"
   ]
  },
  {
   "cell_type": "markdown",
   "id": "b365d211",
   "metadata": {},
   "source": [
    "part 2"
   ]
  },
  {
   "cell_type": "code",
   "execution_count": 11,
   "id": "c25c716c",
   "metadata": {},
   "outputs": [],
   "source": [
    "class meralr():\n",
    "    def __init__(self):\n",
    "        self.m=None\n",
    "        self.b=None\n",
    "    def fit(self,x_train,y_train):\n",
    "        num=0\n",
    "        den=0\n",
    "        for i in range(x_train.shape[0]):\n",
    "            num=num+((x_train.iloc[i]-x_train.mean())*(y_train.iloc[i]-y_train.mean()))\n",
    "            den= den+((x_train.iloc[i]-x_train.mean())*(x_train.iloc[i]-x_train.mean()))\n",
    "        self.m=(num/den) \n",
    "        self.b=y_train.mean()-self.m*x_train.mean()\n",
    "        print(self.m)\n",
    "        print(self.b) \n",
    "    def predict(self,x_test):\n",
    "        return    self.m*x_test+self.b"
   ]
  },
  {
   "cell_type": "code",
   "execution_count": 12,
   "id": "c53d8ba7",
   "metadata": {},
   "outputs": [
    {
     "name": "stdout",
     "output_type": "stream",
     "text": [
      "0.5579519734250721\n",
      "-0.8961119222429152\n"
     ]
    }
   ],
   "source": [
    "lr1=meralr()\n",
    "lr1.fit(x_train,y_train)"
   ]
  },
  {
   "cell_type": "code",
   "execution_count": 13,
   "id": "4c3c1186",
   "metadata": {},
   "outputs": [
    {
     "data": {
      "text/plain": [
       "np.float64(3.891116009744203)"
      ]
     },
     "execution_count": 13,
     "metadata": {},
     "output_type": "execute_result"
    }
   ],
   "source": [
    "pred=lr1.predict(x_test.iloc[0])\n",
    "pred"
   ]
  },
  {
   "cell_type": "code",
   "execution_count": null,
   "id": "ac65cd0a",
   "metadata": {},
   "outputs": [],
   "source": []
  }
 ],
 "metadata": {
  "kernelspec": {
   "display_name": "Python 3",
   "language": "python",
   "name": "python3"
  },
  "language_info": {
   "codemirror_mode": {
    "name": "ipython",
    "version": 3
   },
   "file_extension": ".py",
   "mimetype": "text/x-python",
   "name": "python",
   "nbconvert_exporter": "python",
   "pygments_lexer": "ipython3",
   "version": "3.12.10"
  }
 },
 "nbformat": 4,
 "nbformat_minor": 5
}
