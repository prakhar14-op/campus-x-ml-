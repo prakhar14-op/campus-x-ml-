{
 "cells": [
  {
   "cell_type": "markdown",
   "id": "ed3da9e7",
   "metadata": {},
   "source": [
    "MINI BATCH GRADIENT DESCENT "
   ]
  },
  {
   "cell_type": "markdown",
   "id": "d7f24784",
   "metadata": {},
   "source": []
  }
 ],
 "metadata": {
  "language_info": {
   "name": "python"
  }
 },
 "nbformat": 4,
 "nbformat_minor": 5
}
