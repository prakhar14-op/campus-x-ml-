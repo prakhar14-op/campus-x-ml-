{
 "cells": [
  {
   "cell_type": "markdown",
   "id": "b3a4d014",
   "metadata": {},
   "source": [
    "PANDAS PROFILING"
   ]
  },
  {
   "cell_type": "code",
   "execution_count": null,
   "id": "038d02c3",
   "metadata": {},
   "outputs": [],
   "source": [
    "import pandas as pd \n",
    "titanic=pd.read_csv('train.csv') "
   ]
  },
  {
   "cell_type": "code",
   "execution_count": null,
   "id": "9cdff79d",
   "metadata": {},
   "outputs": [
    {
     "ename": "ModuleNotFoundError",
     "evalue": "No module named 'ydata_profiling'",
     "output_type": "error",
     "traceback": [
      "\u001b[31m---------------------------------------------------------------------------\u001b[39m",
      "\u001b[31mModuleNotFoundError\u001b[39m                       Traceback (most recent call last)",
      "\u001b[36mCell\u001b[39m\u001b[36m \u001b[39m\u001b[32mIn[7]\u001b[39m\u001b[32m, line 1\u001b[39m\n\u001b[32m----> \u001b[39m\u001b[32m1\u001b[39m \u001b[38;5;28;01mfrom\u001b[39;00m\u001b[38;5;250m \u001b[39m\u001b[34;01mydata_profiling\u001b[39;00m\u001b[38;5;250m \u001b[39m\u001b[38;5;28;01mimport\u001b[39;00m ProfileReport\n\u001b[32m      2\u001b[39m prof = ProfileReport(titanic)\n\u001b[32m      3\u001b[39m prof.to_file(\u001b[33m'\u001b[39m\u001b[33moutput.html\u001b[39m\u001b[33m'\u001b[39m)\n",
      "\u001b[31mModuleNotFoundError\u001b[39m: No module named 'ydata_profiling'"
     ]
    }
   ],
   "source": [
    "from pandas_profiling import ProfileReport\n",
    "prof = ProfileReport(titanic)\n",
    "prof.to_file('output.html')\n"
   ]
  }
 ],
 "metadata": {
  "kernelspec": {
   "display_name": "Python 3",
   "language": "python",
   "name": "python3"
  },
  "language_info": {
   "codemirror_mode": {
    "name": "ipython",
    "version": 3
   },
   "file_extension": ".py",
   "mimetype": "text/x-python",
   "name": "python",
   "nbconvert_exporter": "python",
   "pygments_lexer": "ipython3",
   "version": "3.12.10"
  }
 },
 "nbformat": 4,
 "nbformat_minor": 5
}
