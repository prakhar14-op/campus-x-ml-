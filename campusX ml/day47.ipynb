{
 "cells": [
  {
   "cell_type": "markdown",
   "id": "d6c1fc49",
   "metadata": {},
   "source": [
    "PCA"
   ]
  },
  {
   "cell_type": "markdown",
   "id": "10fc3b4d",
   "metadata": {},
   "source": []
  }
 ],
 "metadata": {
  "language_info": {
   "name": "python"
  }
 },
 "nbformat": 4,
 "nbformat_minor": 5
}
